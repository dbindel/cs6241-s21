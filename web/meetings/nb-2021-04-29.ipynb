{
 "cells": [
  {
   "cell_type": "markdown",
   "metadata": {},
   "source": [
    "# Exercises for 2021-04-29\n",
    "\n",
    "Note: You will need to do `import Pkg; Pkg.add(\"GraphRecipes\")` if you do not already have it installed."
   ]
  },
  {
   "cell_type": "code",
   "execution_count": null,
   "metadata": {},
   "outputs": [],
   "source": [
    "# import Pkg; Pkg.add(\"GraphRecipes\")"
   ]
  },
  {
   "cell_type": "code",
   "execution_count": null,
   "metadata": {},
   "outputs": [],
   "source": [
    "using LinearAlgebra\n",
    "using Plots\n",
    "using GraphRecipes\n",
    "using SparseArrays\n",
    "using MatrixNetworks"
   ]
  },
  {
   "cell_type": "markdown",
   "metadata": {},
   "source": [
    "## Data setup\n",
    "\n",
    "The Zachary karate club is a standard example in network analysis; for this and some other examples, see [Mark Newman's web site](http://www-personal.umich.edu/~mejn/netdata/), the [Network Repository](http://networkrepository.com/soc-karate.php), and the [KONECT repository](http://konect.cc/).  Other example repositories include [SNAP](https://snap.stanford.edu/snap/) and [UCI](http://networkdata.ics.uci.edu/)."
   ]
  },
  {
   "cell_type": "code",
   "execution_count": null,
   "metadata": {},
   "outputs": [],
   "source": [
    "m = 78\n",
    "n = 34\n",
    "adj   = [1 2\n",
    "         1 3\n",
    "         2 3\n",
    "         1 4\n",
    "         2 4\n",
    "         3 4\n",
    "         1 5\n",
    "         1 6\n",
    "         1 7\n",
    "         5 7\n",
    "         6 7\n",
    "         1 8\n",
    "         2 8\n",
    "         3 8\n",
    "         4 8\n",
    "         1 9\n",
    "         3 9\n",
    "         3 10\n",
    "         1 11\n",
    "         5 11\n",
    "         6 11\n",
    "         1 12\n",
    "         1 13\n",
    "         4 13\n",
    "         1 14\n",
    "         2 14\n",
    "         3 14\n",
    "         4 14\n",
    "         6 17\n",
    "         7 17\n",
    "         1 18\n",
    "         2 18\n",
    "         1 20\n",
    "         2 20\n",
    "         1 22\n",
    "         2 22\n",
    "         24 26\n",
    "         25 26\n",
    "         3 28\n",
    "         24 28\n",
    "         25 28\n",
    "         3 29\n",
    "         24 30\n",
    "         27 30\n",
    "         2 31\n",
    "         9 31\n",
    "         1 32\n",
    "         25 32\n",
    "         26 32\n",
    "         29 32\n",
    "         3 33\n",
    "         9 33\n",
    "         15 33\n",
    "         16 33\n",
    "         19 33\n",
    "         21 33\n",
    "         23 33\n",
    "         24 33\n",
    "         30 33\n",
    "         31 33\n",
    "         32 33\n",
    "         9 34\n",
    "         10 34\n",
    "         14 34\n",
    "         15 34\n",
    "         16 34\n",
    "         19 34\n",
    "         20 34\n",
    "         21 34\n",
    "         23 34\n",
    "         24 34\n",
    "         27 34\n",
    "         28 34\n",
    "         29 34\n",
    "         30 34\n",
    "         31 34\n",
    "         32 34\n",
    "         33 34]\n",
    "labels = [0 0 0 0 0 0 0 0 0 1 0 0 0 0 1 1 0 0 1 0 1 0 1 1 1 1 1 1 1 1 1 1 1 1]\n",
    "A = sparse(adj[:,1], adj[:,2], ones(m), n, n)\n",
    "A = A+A'\n",
    "spy(A)"
   ]
  },
  {
   "cell_type": "code",
   "execution_count": null,
   "metadata": {},
   "outputs": [],
   "source": [
    "graphplot(A, markersize=0.4, curves=false, names=labels)"
   ]
  },
  {
   "cell_type": "markdown",
   "metadata": {},
   "source": [
    "## Semi-supervised labeling\n",
    "\n",
    "Suppose we label node 1 as 0 and node 34 as 1.\n",
    "\n",
    "(4 points): Compute the vector of \"soft\" labels using the Laplacian-based approach from the 4/22 lecture.  Plot the soft labels vs the \"ground truth\" labels.  Does this approach work well?"
   ]
  },
  {
   "cell_type": "code",
   "execution_count": null,
   "metadata": {},
   "outputs": [],
   "source": []
  },
  {
   "cell_type": "markdown",
   "metadata": {},
   "source": [
    "## Spectral partitioning\n",
    "\n",
    "This is a small enough matrix that we can just use the Julia `eigen` function.  For larger matrices, we would want to use `eigs` (which is now in the `Arpack.jl` package).\n",
    "\n",
    "We start by plotting the labeling vs the first eigenvector of the combinatorial Laplacian.  What we notice is that this ordering does a pretty good job of separating the two \"ground truth\" clusters in the graph."
   ]
  },
  {
   "cell_type": "code",
   "execution_count": null,
   "metadata": {},
   "outputs": [],
   "source": [
    "d = [sum(A[i,:]) for i = 1:n]\n",
    "D = spdiagm(0 => d)\n",
    "L = D-A\n",
    "Ldense = Matrix(L)\n",
    "λs, V = eigen(Ldense)\n",
    "spectral1d = V[:,2]\n",
    "scatter(spectral1d, labels')"
   ]
  },
  {
   "cell_type": "markdown",
   "metadata": {},
   "source": [
    "(3 points): In your own words, explain what was meant by \"does a pretty good job of separating the two 'ground truth' clusters in the graph.\""
   ]
  },
  {
   "cell_type": "markdown",
   "metadata": {},
   "source": []
  },
  {
   "cell_type": "markdown",
   "metadata": {},
   "source": [
    "The spectral approximation to maximizing the modularity (defined in terms of $B = A-\\frac{dd^T}{2m}$ involves similarly looking at the eigenvector associated with the largest eigenvalue of $B$.\n",
    "\n",
    "(3 points): Plot the \"ground truth\" labels against the components of this eigenvector -- you should see it again does a pretty good job of separating out the two pieces."
   ]
  },
  {
   "cell_type": "code",
   "execution_count": null,
   "metadata": {},
   "outputs": [],
   "source": []
  },
  {
   "cell_type": "markdown",
   "metadata": {},
   "source": [
    "## Students choice\n",
    "\n",
    "Suppose you had to ask a question to gently probe students knowledge of the graph learning methods discussed in the past two weeks.\n",
    "\n",
    "(2 points): What question do you think you would ask?"
   ]
  },
  {
   "cell_type": "markdown",
   "metadata": {},
   "source": []
  },
  {
   "cell_type": "markdown",
   "metadata": {},
   "source": [
    "(2 points): What would your answer to that question be?"
   ]
  },
  {
   "cell_type": "markdown",
   "metadata": {},
   "source": []
  }
 ],
 "metadata": {
  "kernelspec": {
   "display_name": "Julia 1.5.3",
   "language": "julia",
   "name": "julia-1.5"
  },
  "language_info": {
   "file_extension": ".jl",
   "mimetype": "application/julia",
   "name": "julia"
  }
 },
 "nbformat": 4,
 "nbformat_minor": 2
}
