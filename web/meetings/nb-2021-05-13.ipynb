{
 "cells": [
  {
   "cell_type": "markdown",
   "metadata": {},
   "source": [
    "# Exercises for 2021-05-13\n",
    "\n",
    "In this jupyter notebook, we are taking a look at an example for data-driven Koopman with the lifted DMD. Note that you will need to import the \"DifferentialEquation\" package and the \"FFTW\" package if these are not yet installed. "
   ]
  },
  {
   "cell_type": "code",
   "execution_count": null,
   "metadata": {},
   "outputs": [],
   "source": [
    "using Pkg\n",
    "Pkg.add(\"DifferentialEquations\")\n",
    "Pkg.add(\"FFTW\")"
   ]
  },
  {
   "cell_type": "code",
   "execution_count": null,
   "metadata": {},
   "outputs": [],
   "source": [
    "using Plots\n",
    "using Random\n",
    "using LinearAlgebra\n",
    "using DifferentialEquations\n",
    "using FFTW"
   ]
  },
  {
   "cell_type": "markdown",
   "metadata": {},
   "source": [
    "# Data-driven Koopman "
   ]
  },
  {
   "cell_type": "markdown",
   "metadata": {},
   "source": [
    "In the lecture, we had examples for which we 'easily' could find a solution or we looked at cases that can be solve via a Taylor or Laurent series expansion. Here, we will look at a more realistic example, the nonlinear Schrödinger equation:\n",
    "$$\n",
    "i \\frac{\\partial q}{\\partial t} + \\frac{1}{2}\\frac{\\partial^2 q}{\\partial \\xi^2}+ |q|^2 q =0,\n",
    "$$\n",
    "with $q(\\xi,t)$ being a function in space and time.\n",
    "The first couple of code snippets will generate the data we use for the DMD. How the data is generated is not the main focus of the notebook - but we nevertheless need data to work with for our data-driven algorithms. (But in case you're interested feel free to read about the nonlinear Schrödinger equation [here](https://en.wikipedia.org/wiki/Nonlinear_Schrödinger_equation))."
   ]
  },
  {
   "cell_type": "code",
   "execution_count": null,
   "metadata": {},
   "outputs": [],
   "source": [
    "#Defining our space domain\n",
    "L=30; \n",
    "n=128;\n",
    "x1 = range(-L/2, stop=L/2, length= n+1)\n",
    "#state space\n",
    "xi=x1[1:n];\n",
    "\n",
    "#Wave numbers \n",
    "k=(2*pi/L)*[0:n/2-1;-n/2:-1];"
   ]
  },
  {
   "cell_type": "markdown",
   "metadata": {},
   "source": [
    "Next, we define our time discretization. "
   ]
  },
  {
   "cell_type": "code",
   "execution_count": null,
   "metadata": {},
   "outputs": [],
   "source": [
    "slices = 128;\n",
    "t1 = range(0, stop=pi , length = slices+1); \n",
    "deltat1 = t1[2]-t1[1];"
   ]
  },
  {
   "cell_type": "markdown",
   "metadata": {},
   "source": [
    "The above equation can be rewritten and is then transformed via a Fourier transormation in space. We solve the ODE problem here to generate data for our DMD and Koopman DMD. "
   ]
  },
  {
   "cell_type": "code",
   "execution_count": null,
   "metadata": {},
   "outputs": [],
   "source": [
    "# define right-hand-side\n",
    "function dmd_soliton_rhs(dy,y,t,p) \n",
    "    q = ifft(y);\n",
    "    dy[:] = -(1im/2)*(k .^2).*y[:]+1im*fft((broadcast(abs,q).^2).*q);    \n",
    "end\n",
    "\n",
    "# Initial condition\n",
    "ic(x) = 2* sech(x);\n",
    "Initial_data = [ic(x) for x in xi]\n",
    "\n",
    "qt= (fft(Initial_data));\n",
    "\n",
    "tspan = (0.,pi)\n",
    "prob1 = ODEProblem(dmd_soliton_rhs, qt ,tspan)\n",
    "sol = solve(prob1, Vern7(), adaptive=false ,dt = deltat1);"
   ]
  },
  {
   "cell_type": "markdown",
   "metadata": {},
   "source": [
    "Let's take a look how our solution looks like! This will be the data we are working with on this notebook."
   ]
  },
  {
   "cell_type": "code",
   "execution_count": null,
   "metadata": {},
   "outputs": [],
   "source": [
    "qsol = Matrix{ComplexF64}(undef, n, 0)\n",
    "for iter in range(1,stop=slices+1)\n",
    "    qsol = hcat(qsol,ifft(sol.u[iter]) )\n",
    "end\n",
    "\n",
    "p1= surface(xi,t1,broadcast(abs,qsol)') \n",
    "#p1 = heatmap(xi,t1,broadcast(abs,qsol)')\n",
    "plot(p1)"
   ]
  },
  {
   "cell_type": "markdown",
   "metadata": {},
   "source": [
    "## Performing usual DMD as comparison\n",
    "\n",
    "We start by a state-space DMD to see how good we perform with states as measurements only. "
   ]
  },
  {
   "cell_type": "code",
   "execution_count": null,
   "metadata": {},
   "outputs": [],
   "source": [
    "X = qsol;"
   ]
  },
  {
   "cell_type": "markdown",
   "metadata": {},
   "source": [
    "We create the DMD matrices by\n",
    "$$\n",
    "X_1= [x_0, \\ldots, x_{K-1} ], \\quad X_2= [x_1, \\ldots, x_{K} ]\n",
    "$$\n",
    "such that we seek\n",
    "$$\n",
    "A = X_2 X_1^{\\dagger},\n",
    "$$\n",
    "where $\\cdot^{\\dagger}$ denotes the Moore-Penrose pseudoinverse."
   ]
  },
  {
   "cell_type": "code",
   "execution_count": null,
   "metadata": {},
   "outputs": [],
   "source": [
    "#create DMD data matrices\n",
    "X1 = X[:, 1:end-1];\n",
    "X2 = X[:, 2:end];"
   ]
  },
  {
   "cell_type": "markdown",
   "metadata": {},
   "source": [
    "Next, we compute the SVD of $X_1$ in order to subsequently compute the pseudoinverse:\n",
    "$$\n",
    "X_1 = U \\Sigma V^{\\ast},\n",
    "$$\n",
    "and truncate the matrices. We arrive at the approximation\n",
    "$$\n",
    "X_1 \\approx \\tilde{U} \\tilde{\\Sigma} \\tilde{V}^{\\ast}.\n",
    "$$"
   ]
  },
  {
   "cell_type": "code",
   "execution_count": null,
   "metadata": {},
   "outputs": [],
   "source": [
    "#SVD and rank truncation - here rank 10\n",
    "r=10\n",
    "SVDX = svd(X1)\n",
    "\n",
    "#truncate matrices\n",
    "Utilde = SVDX.U[:,1:r];\n",
    "S = Diagonal(SVDX.S);\n",
    "Stilde = S[1:r,1:r];\n",
    "Vtilde = SVDX.V[:,1:r];"
   ]
  },
  {
   "cell_type": "markdown",
   "metadata": {},
   "source": [
    "Next, we compute \n",
    "$$\n",
    "\\tilde{A} = \\tilde{U}^{*} X_2 \\tilde{V} \\tilde{\\Sigma}^{-1}, \n",
    "$$ \n",
    "perform the eigendecomposition of $\\tilde{A}$ and compute the dynamic modes $\\phi$ of $\\bar{A}.$"
   ]
  },
  {
   "cell_type": "code",
   "execution_count": null,
   "metadata": {},
   "outputs": [],
   "source": [
    "Atilde = Utilde'*X2*Vtilde/Stilde;\n",
    "Lambda = Diagonal(eigvals(Atilde));\n",
    "W = eigvecs(Atilde)\n",
    "omega = log(Lambda)/deltat1;\n",
    "Phi = X2*Vtilde/Stilde*W; # DMD Modes"
   ]
  },
  {
   "cell_type": "markdown",
   "metadata": {},
   "source": [
    "Compute the DMD solution via \n",
    "$$\n",
    "x(t)= \\Phi \\exp(\\Omega t)b,\n",
    "$$\n",
    "where b are the coordinates of the initial condition in eigenvector basis."
   ]
  },
  {
   "cell_type": "code",
   "execution_count": null,
   "metadata": {},
   "outputs": [],
   "source": [
    "#compute dmd solution\n",
    "x_1 = X[:, 1];\n",
    "b = Phi\\x_1; \n",
    "\n",
    "time_dynamics = Matrix(undef, r, 0)\n",
    "for iter in range(1,stop=slices+1)\n",
    "    time_dynamics = hcat(time_dynamics,exp(omega*t1[iter])*b) \n",
    "end \n",
    "\n",
    "X_dmd = Phi*time_dynamics;"
   ]
  },
  {
   "cell_type": "markdown",
   "metadata": {},
   "source": [
    "We take a look at the DMD solution."
   ]
  },
  {
   "cell_type": "code",
   "execution_count": null,
   "metadata": {},
   "outputs": [],
   "source": [
    "p2 = surface(xi,t1,broadcast(abs,X_dmd)') \n",
    "#p2 = heatmap(xi,t1,broadcast(abs,X_dmd)')\n",
    "plot(p2)"
   ]
  },
  {
   "cell_type": "markdown",
   "metadata": {},
   "source": [
    "## DMD lifted to observable space\n",
    "Can we do better by including meaurement functions? What would be a good guess on your side to include as a measurement function? For now we keep the state as out first measurement function, but you can add a second measurement."
   ]
  },
  {
   "cell_type": "markdown",
   "metadata": {},
   "source": [
    "We create the DMD matrices (here called $Y_1$ and $Y_2$) by\n",
    "$$\n",
    "Y_1= [g(x_0), \\ldots, g(x_{K-1}) ], \\quad Y_2= [g(x_1), \\ldots, g(x_{K}) ]\n",
    "$$\n",
    "such that we seek\n",
    "$$\n",
    "A_Y = Y_2 Y_1^{\\dagger}.\n",
    "$$"
   ]
  },
  {
   "cell_type": "code",
   "execution_count": null,
   "metadata": {},
   "outputs": [],
   "source": [
    "Y1=[X1; ?insert measurement here for X1?]; \n",
    "Y2=[X2; ?insert same measurement here for X2?];"
   ]
  },
  {
   "cell_type": "markdown",
   "metadata": {},
   "source": [
    "Here, we also compute the SVD, but of the lifted matrix $Y_1$:\n",
    "$$\n",
    "Y_1 = U_Y \\Sigma_Y V_Y^{\\ast},\n",
    "$$\n",
    "and truncate the matrices. We arrive at the approximation\n",
    "$$\n",
    "Y_1 \\approx \\tilde{U}_Y \\tilde{\\Sigma}_Y \\tilde{V}_Y^{\\ast}.\n",
    "$$"
   ]
  },
  {
   "cell_type": "code",
   "execution_count": null,
   "metadata": {},
   "outputs": [],
   "source": [
    "#SVD and rank truncation - here rank 10\n",
    "rY=10\n",
    "SVDY = svd(Y1)\n",
    "\n",
    "#truncate matrices\n",
    "UtildeY = SVDY.U[:,1:rY];\n",
    "SY = Diagonal(SVDY.S);\n",
    "StildeY = S[1:rY,1:rY];\n",
    "VtildeY = SVDY.V[:,1:rY];"
   ]
  },
  {
   "cell_type": "markdown",
   "metadata": {},
   "source": [
    "We compute \n",
    "$$\n",
    "\\tilde{A}_Y = \\tilde{U}_Y^{*} Y_2 \\tilde{V}_Y \\tilde{\\Sigma}_Y^{-1}, \n",
    "$$ \n",
    "perform the eigendecomposition of $\\tilde{A}_Y$ and compute the dynamic modes $\\phi_Y$ of $\\bar{A}_Y.$"
   ]
  },
  {
   "cell_type": "code",
   "execution_count": null,
   "metadata": {},
   "outputs": [],
   "source": [
    "AtildeY = UtildeY'*Y2*VtildeY/StildeY;\n",
    "LambdaY = Diagonal(eigvals(AtildeY));\n",
    "WY = eigvecs(AtildeY)\n",
    "omegaY = log(LambdaY)/deltat1;\n",
    "PhiY = Y2*VtildeY/StildeY*WY; # DMD Modes"
   ]
  },
  {
   "cell_type": "markdown",
   "metadata": {},
   "source": [
    "Compute the DMD solution via \n",
    "$$\n",
    "y(t)= \\Phi_Y \\exp(\\Omega_Y t)b_Y,\n",
    "$$\n",
    "where b_Y are the coordinates of the initial condition in eigenvector basis."
   ]
  },
  {
   "cell_type": "code",
   "execution_count": null,
   "metadata": {},
   "outputs": [],
   "source": [
    "#compute extended dmd solution\n",
    "q2 = [Initial_data; ?insert initial measurement here?]\n",
    "y0 = PhiY\\q2; \n",
    "\n",
    "time_dynamicsY = Matrix(undef, rY, 0)\n",
    "for iter in range(1,stop=slices+1)\n",
    "    time_dynamicsY = hcat(time_dynamicsY,exp(omegaY*t1[iter])*y0) \n",
    "end \n",
    "\n",
    "Y_dmd2 = PhiY*time_dynamicsY;"
   ]
  },
  {
   "cell_type": "markdown",
   "metadata": {},
   "source": [
    "How do we actually transform back our state measurements in this case?"
   ]
  },
  {
   "cell_type": "code",
   "execution_count": null,
   "metadata": {},
   "outputs": [],
   "source": [
    "#Koopman approximation\n",
    "q_dmd = ?"
   ]
  },
  {
   "cell_type": "code",
   "execution_count": null,
   "metadata": {},
   "outputs": [],
   "source": [
    "p3 = surface(xi,t1,broadcast(abs,q_dmd)') \n",
    "#p3 = heatmap(xi,t1,broadcast(abs,q_dmd)')\n",
    "plot(p3)"
   ]
  },
  {
   "cell_type": "code",
   "execution_count": null,
   "metadata": {},
   "outputs": [],
   "source": []
  }
 ],
 "metadata": {
  "kernelspec": {
   "display_name": "Julia 1.6.0",
   "language": "julia",
   "name": "julia-1.6"
  },
  "language_info": {
   "file_extension": ".jl",
   "mimetype": "application/julia",
   "name": "julia"
  }
 },
 "nbformat": 4,
 "nbformat_minor": 4
}
