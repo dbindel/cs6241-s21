{
 "cells": [
  {
   "cell_type": "markdown",
   "metadata": {},
   "source": [
    "# Exercises for 2021-05-06\n",
    "\n",
    "In this jupyter notebook, we will perform a dynamic mode decomposition (DMD) for two example problems, which differ only in a seemingly small part - but this yields significant differences in the approximation property of DMD. "
   ]
  },
  {
   "cell_type": "markdown",
   "metadata": {},
   "source": [
    "# 1) Dynamic mode decomposition"
   ]
  },
  {
   "cell_type": "code",
   "execution_count": null,
   "metadata": {},
   "outputs": [],
   "source": [
    "using Plots\n",
    "pyplot()\n",
    "using Random\n",
    "using LinearAlgebra"
   ]
  },
  {
   "cell_type": "markdown",
   "metadata": {},
   "source": [
    "For our example, we are looking at the sum of two functions (signals). We start by creating the input data of these two functions \n",
    "$$\n",
    "f_1(x,t) := \\text{sech}(x+3)\\exp(i 2.3 t), \\\\\n",
    "f_2(x,t) := \\text{sech}(x)\\tanh(x)\\exp(i 2.8 t).\n",
    "$$\n",
    "Let's check out how $f_1$ and $f_2$ look!\n",
    "(In every plot, there will be a surface plot and a heatmap available to get a better understanding of what the function looks like that we want to approximate with DMD.) "
   ]
  },
  {
   "cell_type": "code",
   "execution_count": null,
   "metadata": {},
   "outputs": [],
   "source": [
    "f1(x,t) = sech(x+3) *(exp(2.3im*t))\n",
    "f2(x,t) = 2*sech(x)*tanh(x)*exp(2.8im*t) \n",
    "\n",
    "x1 = range(-10, stop=10, length= 400)\n",
    "t1 = range(0, stop=4*pi, length = 200)\n",
    "dt = t1[2]-t1[1]\n",
    "\n",
    "f1_data = [f1(x,t) for x in x1, t in t1]\n",
    "f2_data = [f2(x,t) for x in x1, t in t1]\n",
    "\n",
    "p1 = surface(x1,t1,real(f1_data)')\n",
    "p2 = surface(x1,t1,real(f2_data)')\n",
    "\n",
    "#p1 = heatmap(x1,t1,real(f1_data)')\n",
    "#p2 = heatmap(x1,t1,real(f2_data)')\n",
    "\n",
    "plot(p1, p2, layout=(1,2))"
   ]
  },
  {
   "cell_type": "markdown",
   "metadata": {},
   "source": [
    "The plot below shows the function \n",
    "$$ \n",
    "f(x,t) = f_1(x,t) + f_2(x,t),\n",
    "$$\n",
    "we want to approximate via DMD. We also generate the full data matrix X. "
   ]
  },
  {
   "cell_type": "code",
   "execution_count": null,
   "metadata": {},
   "outputs": [],
   "source": [
    "#data matrix X\n",
    "X = f1_data + f2_data\n",
    "\n",
    "p3 = surface(x1,t1,real(X)')\n",
    "#p3 = heatmap(x1,t1,real(X)')\n",
    "plot(p3)"
   ]
  },
  {
   "cell_type": "markdown",
   "metadata": {},
   "source": [
    "In the next step we create the DMD matrices (here called $X_1$ and $X_2$) by\n",
    "$$\n",
    "X_1= [x_0, \\ldots, x_{K-1} ], \\quad X_2= [x_1, \\ldots, x_{K} ]\n",
    "$$\n",
    "such that we seek\n",
    "$$\n",
    "A = X_2 X_1^{\\dagger},\n",
    "$$\n",
    "where $\\cdot^{\\dagger}$ denotes the Moore-Penrose pseudoinverse. "
   ]
  },
  {
   "cell_type": "code",
   "execution_count": null,
   "metadata": {},
   "outputs": [],
   "source": [
    "#create DMD data matrices\n",
    "X1 = X[:, 1:end-1];\n",
    "X2 = X[:, 2:end];"
   ]
  },
  {
   "cell_type": "markdown",
   "metadata": {},
   "source": [
    "Next, we compute the SVD of $X_1$ in order to subsequently compute the pseudoinverse:\n",
    "$$\n",
    "X_1 = U \\Sigma V^{\\ast},\n",
    "$$\n",
    "and truncate the matrices. We arrive at the approximation\n",
    "$$\n",
    "X_1 \\approx \\tilde{U} \\tilde{\\Sigma} \\tilde{V}^{\\ast}.\n",
    "$$"
   ]
  },
  {
   "cell_type": "code",
   "execution_count": null,
   "metadata": {},
   "outputs": [],
   "source": [
    "#SVD and rank truncation - here rank 2\n",
    "r=2\n",
    "SVDX = svd(X1)\n",
    "\n",
    "#truncate matrices\n",
    "Utilde = SVDX.U[:,1:r];\n",
    "S = Diagonal(SVDX.S);\n",
    "Stilde = S[1:r,1:r];\n",
    "Vtilde = SVDX.V[:,1:r];"
   ]
  },
  {
   "cell_type": "markdown",
   "metadata": {},
   "source": [
    "Next, we compute \n",
    "$$\n",
    "\\tilde{A} = \\tilde{U}^{*} X_2 \\tilde{V} \\tilde{\\Sigma}^{-1}, \n",
    "$$ \n",
    "perform the eigendecomposition of $\\tilde{A}$ and compute the dynamic modes $\\phi$ of $\\bar{A}.$"
   ]
  },
  {
   "cell_type": "code",
   "execution_count": null,
   "metadata": {},
   "outputs": [],
   "source": [
    "Atilde = Utilde'*X2*Vtilde/Stilde;\n",
    "Lambda = Diagonal(eigvals(Atilde));\n",
    "W = eigvecs(Atilde)\n",
    "omega = log(Lambda)/dt;\n",
    "Phi = X2*Vtilde/Stilde*W; # DMD Modes"
   ]
  },
  {
   "cell_type": "markdown",
   "metadata": {},
   "source": [
    "Compute the DMD solution via \n",
    "$$\n",
    "x(t)= \\Phi \\exp(\\Omega t)b,\n",
    "$$\n",
    "where b are the coordinates of the initial condition in eigenvector basis."
   ]
  },
  {
   "cell_type": "code",
   "execution_count": null,
   "metadata": {},
   "outputs": [],
   "source": [
    "#compute dmd solution\n",
    "x_1 = X[:, 1];\n",
    "b = Phi\\x_1; \n",
    "\n",
    "time_dynamics = Matrix(undef, 2, 0)\n",
    "for iter in range(1,stop=200)\n",
    "    time_dynamics = hcat(time_dynamics,exp(omega*t1[iter])*b) \n",
    "end \n",
    "\n",
    "X_dmd = Phi*time_dynamics;"
   ]
  },
  {
   "cell_type": "markdown",
   "metadata": {},
   "source": [
    "We take a look at the solution. "
   ]
  },
  {
   "cell_type": "code",
   "execution_count": null,
   "metadata": {},
   "outputs": [],
   "source": [
    "p4 = surface(x1,t1,real(X_dmd)') \n",
    "#p4 = heatmap(x1,t1,real(X_dmd)')\n",
    "plot(p4)"
   ]
  },
  {
   "cell_type": "markdown",
   "metadata": {},
   "source": [
    "In order to have something more rigorius than the eyeball-norm, we plot the error in the solution and compute the norm.  "
   ]
  },
  {
   "cell_type": "code",
   "execution_count": null,
   "metadata": {},
   "outputs": [],
   "source": [
    "#plot Error\n",
    "p5 = heatmap(x1,t1,real(X)'- real(X_dmd)')\n",
    "print(norm(real(X)-real(X_dmd)))\n",
    "plot(p5)"
   ]
  },
  {
   "cell_type": "markdown",
   "metadata": {},
   "source": [
    "# 2) Dynamic mode decomposition and it's limitations"
   ]
  },
  {
   "cell_type": "markdown",
   "metadata": {},
   "source": [
    "Again, we look at the DMD approximation of the sum of two functions with a slight change in function $f_1$:\n",
    "$$\n",
    "f_1(x,t) := \\text{sech}(x+6-t)\\exp(i 2.3 t), \\\\ \n",
    "f_2(x,t) := \\text{sech}(x)\\tanh(x)\\exp(i 2.8 t).\n",
    "$$\n",
    "Here, the function $f_1$ is translating at a constant velocity across the spatial domain. Again, we take a look at those two functions separately and then combined."
   ]
  },
  {
   "cell_type": "code",
   "execution_count": null,
   "metadata": {},
   "outputs": [],
   "source": [
    "f1_shift(x,t) = sech(x+6-t) *(exp(2.3im*t))\n",
    "f2_shift(x,t) = 2*sech(x)*tanh(x)*exp(2.8im*t)\n",
    "\n",
    "x1 = range(-10, stop=10, length= 400)\n",
    "t1 = range(0, stop=4*pi, length = 200)\n",
    "dt = t1[2]-t1[1]\n",
    "\n",
    "f1_data_shift = [f1_shift(x,t) for x in x1, t in t1]\n",
    "f2_data_shift = [f2_shift(x,t) for x in x1, t in t1]\n",
    "\n",
    "p6 = surface(x1,t1,real(f1_data_shift)')\n",
    "p7 = surface(x1,t1,real(f2_data_shift)')\n",
    "\n",
    "#p6 = heatmap(x1,t1,real(f1_data_shift)')\n",
    "#p7 = heatmap(x1,t1,real(f2_data_shift)')\n",
    "\n",
    "plot(p6, p7, layout=(1,2))"
   ]
  },
  {
   "cell_type": "code",
   "execution_count": null,
   "metadata": {},
   "outputs": [],
   "source": [
    "#data matrix X\n",
    "X_shift = f1_data_shift + f2_data_shift\n",
    "\n",
    "p8 = surface(x1,t1,real(X_shift)')\n",
    "#p8 = heatmap(x1,t1,real(X_shift)')\n",
    "plot(p8)"
   ]
  },
  {
   "cell_type": "markdown",
   "metadata": {},
   "source": [
    "As before we create the data matrices and perform the SVD with rank truncation. In the next steps, we compute the eigendynamics of our system. "
   ]
  },
  {
   "cell_type": "code",
   "execution_count": null,
   "metadata": {},
   "outputs": [],
   "source": [
    "#create DMD data matrices\n",
    "X1_shift = X_shift[:, 1:end-1];\n",
    "X2_shift = X_shift[:, 2:end];\n",
    "\n",
    "#SVD and rank truncation - here rank 2\n",
    "r_shift=2\n",
    "SVDX_shift = svd(X1_shift)\n",
    "\n",
    "#truncate matrices\n",
    "Utilde_shift = SVDX_shift.U[:,1:r_shift];\n",
    "S_shift = Diagonal(SVDX_shift.S);\n",
    "Stilde_shift = S_shift[1:r_shift,1:r_shift];\n",
    "Vtilde_shift = SVDX_shift.V[:,1:r_shift];"
   ]
  },
  {
   "cell_type": "code",
   "execution_count": null,
   "metadata": {},
   "outputs": [],
   "source": [
    "Atilde_shift = Utilde_shift'*X2_shift*Vtilde_shift/Stilde_shift;\n",
    "Lambda_shift = Diagonal(eigvals(Atilde_shift));\n",
    "W_shift = eigvecs(Atilde_shift)\n",
    "omega_shift = log(Lambda_shift)/dt;\n",
    "Phi_shift = X2_shift*Vtilde_shift/Stilde_shift*W_shift; "
   ]
  },
  {
   "cell_type": "code",
   "execution_count": null,
   "metadata": {},
   "outputs": [],
   "source": [
    "#compute dmd solution\n",
    "x_1_shift = X_shift[:, 1];\n",
    "b_shift = Phi_shift\\x_1_shift; \n",
    "\n",
    "time_dynamics_shift = Matrix(undef, r_shift, 0)\n",
    "for iter in range(1,stop=200)\n",
    "    time_dynamics_shift = hcat(time_dynamics_shift,exp(omega_shift*t1[iter])*b_shift) \n",
    "end \n",
    "\n",
    "X_dmd_shift = Phi_shift*time_dynamics_shift;"
   ]
  },
  {
   "cell_type": "markdown",
   "metadata": {},
   "source": [
    "Finally, we take a look at the results - via plot and via computing the error. "
   ]
  },
  {
   "cell_type": "code",
   "execution_count": null,
   "metadata": {},
   "outputs": [],
   "source": [
    "p9 = surface(x1,t1,real(X_dmd_shift)') \n",
    "#p9 = heatmap(x1,t1,real(X_dmd_shift)')\n",
    "plot(p9)"
   ]
  },
  {
   "cell_type": "markdown",
   "metadata": {},
   "source": [
    "This plot does not seem to approximate out original data very well. We confirm with the difference in norm and a plot of the error. "
   ]
  },
  {
   "cell_type": "code",
   "execution_count": null,
   "metadata": {},
   "outputs": [],
   "source": [
    "#plot Error\n",
    "p10 = heatmap(x1,t1,real(X_shift)'- real(X_dmd_shift)')\n",
    "print(norm(real(X_shift)-real(X_dmd_shift)))\n",
    "plot(p10)"
   ]
  },
  {
   "cell_type": "markdown",
   "metadata": {},
   "source": [
    "## Questions to work on:\n",
    "1) Those results do not look as good as for the first example. Do you have an idea how they could be improved? \n",
    "\n",
    "2) What would you in generell include in the code to get a better approximation?\n",
    "\n",
    "3) Can you think of ways of overcoming this issue with other methods than modifying DMD?\n"
   ]
  },
  {
   "cell_type": "code",
   "execution_count": null,
   "metadata": {},
   "outputs": [],
   "source": []
  }
 ],
 "metadata": {
  "kernelspec": {
   "display_name": "Julia 1.6.0",
   "language": "julia",
   "name": "julia-1.6"
  },
  "language_info": {
   "file_extension": ".jl",
   "mimetype": "application/julia",
   "name": "julia"
  }
 },
 "nbformat": 4,
 "nbformat_minor": 4
}
